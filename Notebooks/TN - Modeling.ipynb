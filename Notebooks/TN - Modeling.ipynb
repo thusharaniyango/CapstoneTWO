{
 "cells": [
  {
   "cell_type": "markdown",
   "id": "6f78cf93",
   "metadata": {},
   "source": [
    "# Capstone TWO - Modeling"
   ]
  },
  {
   "cell_type": "markdown",
   "id": "4e28b7b3",
   "metadata": {},
   "source": [
    "## Contents<a id='Contents'></a>\n",
    "* [Import Packages](#Import_packages)\n",
    "* [Load Data](#Load_Data)\n",
    "* [Split Dataset](#Split_Data)\n",
    "* [Build Models](#Modeling)\n",
    "    * [LinearRegression Model](#LinearRegression_Model)\n",
    "        * [Create and fit LinearRegression Model](#Create_fit_LR_Model)\n",
    "        * [Run Prediction on LinearRegression Model](#Predict_LR_Model)\n",
    "        * [Review LinearRegression Performance](#Review_LR_Performance)\n",
    "    * [Random Forest Model](#RandomForest_Model)\n",
    "        * [Create and fit RandomForest Model](#Create_run_RF_Model)\n",
    "        * [Run Prediction on Random Forest Model](#Predict_RF_Model)\n",
    "        * [Review RandomForest Performance](#Review_RF_Performance)\n",
    "    * [Gradient Boosting Regression Model](#GradientBoosting_Model)\n",
    "        * [Create and fit Gradient Boosting Regression Model](#Create_run_GB_Model)\n",
    "        * [Run Prediction on Gradient Boosting Regression Model](#Predict_GB_Model)\n",
    "        * [Review Gradient Boosting Regression Performance](#Review_GB_Performance)\n",
    "* [Hyperparameter Tuning](#HyperparameterTuning)\n",
    "    * [Define the Parameter Gridl](#Define_parameters)\n",
    "    * [Perform Grid Search and Re-run Models](#Perform_gridSearch)\n",
    "* [Evaluate Models](#Evaluate)\n",
    "    * [MSE, RMSE, MAE and R-Squared](#Eval_Metrics)\n",
    "        * [Linear Regression](#Evaluate_LinearRegression)\n",
    "        * [Random Forest](#Evaluate_RandomForest)\n",
    "        * [Gradient Boosting Regressor](#Evaluate_GradientBoost)\n",
    "    * [Cross Validation](#Eval_CV)\n",
    "* [Select Model](#Select)"
   ]
  },
  {
   "cell_type": "markdown",
   "id": "08476ebd",
   "metadata": {},
   "source": [
    "## Import Packages<a id='Import_packages'></a>"
   ]
  },
  {
   "cell_type": "code",
   "execution_count": 1,
   "id": "560c231e",
   "metadata": {},
   "outputs": [],
   "source": [
    "import warnings\n",
    "warnings.filterwarnings('ignore')\n",
    "import pandas as pd\n",
    "import numpy as np\n",
    "import matplotlib.pyplot as plt\n",
    "import seaborn as sns\n",
    "import os\n",
    "from ipywidgets import interact, widgets\n",
    "\n",
    "from sklearn.model_selection import train_test_split\n",
    "from sklearn.linear_model import LinearRegression\n",
    "from sklearn.ensemble import RandomForestRegressor\n",
    "from sklearn.ensemble import GradientBoostingRegressor\n",
    "from sklearn.metrics import mean_squared_error, r2_score, mean_absolute_error\n",
    "from sklearn.model_selection import GridSearchCV\n",
    "from sklearn.model_selection import cross_val_score"
   ]
  },
  {
   "cell_type": "markdown",
   "id": "e271bef1",
   "metadata": {},
   "source": [
    "## Load Data<a id='Load_Data'></a>"
   ]
  },
  {
   "cell_type": "code",
   "execution_count": 2,
   "id": "c40e9a69",
   "metadata": {},
   "outputs": [],
   "source": [
    "dataset = pd.read_csv('modelready_dataset.csv')"
   ]
  },
  {
   "cell_type": "code",
   "execution_count": 3,
   "id": "44179b5d",
   "metadata": {},
   "outputs": [
    {
     "data": {
      "text/html": [
       "<div>\n",
       "<style scoped>\n",
       "    .dataframe tbody tr th:only-of-type {\n",
       "        vertical-align: middle;\n",
       "    }\n",
       "\n",
       "    .dataframe tbody tr th {\n",
       "        vertical-align: top;\n",
       "    }\n",
       "\n",
       "    .dataframe thead th {\n",
       "        text-align: right;\n",
       "    }\n",
       "</style>\n",
       "<table border=\"1\" class=\"dataframe\">\n",
       "  <thead>\n",
       "    <tr style=\"text-align: right;\">\n",
       "      <th></th>\n",
       "      <th>Fiscal_earned_year</th>\n",
       "      <th>due_month</th>\n",
       "      <th>Check_Amount</th>\n",
       "      <th>Market_category_Facilities and Material</th>\n",
       "      <th>Market_category_Food</th>\n",
       "      <th>Market_category_Pharmaceuticals</th>\n",
       "      <th>Market_category_Services</th>\n",
       "      <th>Contract_freq_encoded</th>\n",
       "      <th>sin_month</th>\n",
       "      <th>cos_month</th>\n",
       "    </tr>\n",
       "  </thead>\n",
       "  <tbody>\n",
       "    <tr>\n",
       "      <th>0</th>\n",
       "      <td>2003</td>\n",
       "      <td>4</td>\n",
       "      <td>15371996.26</td>\n",
       "      <td>1</td>\n",
       "      <td>0</td>\n",
       "      <td>0</td>\n",
       "      <td>0</td>\n",
       "      <td>2</td>\n",
       "      <td>8.660254e-01</td>\n",
       "      <td>-0.500000</td>\n",
       "    </tr>\n",
       "    <tr>\n",
       "      <th>1</th>\n",
       "      <td>2003</td>\n",
       "      <td>5</td>\n",
       "      <td>7095134.63</td>\n",
       "      <td>1</td>\n",
       "      <td>0</td>\n",
       "      <td>0</td>\n",
       "      <td>0</td>\n",
       "      <td>2</td>\n",
       "      <td>5.000000e-01</td>\n",
       "      <td>-0.866025</td>\n",
       "    </tr>\n",
       "    <tr>\n",
       "      <th>2</th>\n",
       "      <td>2003</td>\n",
       "      <td>6</td>\n",
       "      <td>7324838.75</td>\n",
       "      <td>1</td>\n",
       "      <td>0</td>\n",
       "      <td>0</td>\n",
       "      <td>0</td>\n",
       "      <td>2</td>\n",
       "      <td>1.224647e-16</td>\n",
       "      <td>-1.000000</td>\n",
       "    </tr>\n",
       "    <tr>\n",
       "      <th>3</th>\n",
       "      <td>2003</td>\n",
       "      <td>7</td>\n",
       "      <td>7323424.33</td>\n",
       "      <td>1</td>\n",
       "      <td>0</td>\n",
       "      <td>0</td>\n",
       "      <td>0</td>\n",
       "      <td>2</td>\n",
       "      <td>-5.000000e-01</td>\n",
       "      <td>-0.866025</td>\n",
       "    </tr>\n",
       "    <tr>\n",
       "      <th>4</th>\n",
       "      <td>2003</td>\n",
       "      <td>8</td>\n",
       "      <td>7321162.74</td>\n",
       "      <td>1</td>\n",
       "      <td>0</td>\n",
       "      <td>0</td>\n",
       "      <td>0</td>\n",
       "      <td>2</td>\n",
       "      <td>-8.660254e-01</td>\n",
       "      <td>-0.500000</td>\n",
       "    </tr>\n",
       "  </tbody>\n",
       "</table>\n",
       "</div>"
      ],
      "text/plain": [
       "   Fiscal_earned_year  due_month  Check_Amount  \\\n",
       "0                2003          4   15371996.26   \n",
       "1                2003          5    7095134.63   \n",
       "2                2003          6    7324838.75   \n",
       "3                2003          7    7323424.33   \n",
       "4                2003          8    7321162.74   \n",
       "\n",
       "   Market_category_Facilities and Material  Market_category_Food  \\\n",
       "0                                        1                     0   \n",
       "1                                        1                     0   \n",
       "2                                        1                     0   \n",
       "3                                        1                     0   \n",
       "4                                        1                     0   \n",
       "\n",
       "   Market_category_Pharmaceuticals  Market_category_Services  \\\n",
       "0                                0                         0   \n",
       "1                                0                         0   \n",
       "2                                0                         0   \n",
       "3                                0                         0   \n",
       "4                                0                         0   \n",
       "\n",
       "   Contract_freq_encoded     sin_month  cos_month  \n",
       "0                      2  8.660254e-01  -0.500000  \n",
       "1                      2  5.000000e-01  -0.866025  \n",
       "2                      2  1.224647e-16  -1.000000  \n",
       "3                      2 -5.000000e-01  -0.866025  \n",
       "4                      2 -8.660254e-01  -0.500000  "
      ]
     },
     "execution_count": 3,
     "metadata": {},
     "output_type": "execute_result"
    }
   ],
   "source": [
    "dataset.head()"
   ]
  },
  {
   "cell_type": "code",
   "execution_count": 4,
   "id": "918bfdf9",
   "metadata": {
    "scrolled": true
   },
   "outputs": [
    {
     "data": {
      "text/plain": [
       "(1331, 10)"
      ]
     },
     "execution_count": 4,
     "metadata": {},
     "output_type": "execute_result"
    }
   ],
   "source": [
    "dataset.shape"
   ]
  },
  {
   "cell_type": "markdown",
   "id": "32f3c746",
   "metadata": {},
   "source": [
    "## Split Dataset<a id='Split_Data'></a>"
   ]
  },
  {
   "cell_type": "code",
   "execution_count": 5,
   "id": "2eaeb790",
   "metadata": {},
   "outputs": [],
   "source": [
    "# Splitting the data into train and test sets\n",
    "features = dataset.drop(columns=['Check_Amount'])\n",
    "target = dataset['Check_Amount']\n",
    "X_train, X_test, y_train, y_test = train_test_split(features, target, test_size=0.2, random_state=42)"
   ]
  },
  {
   "cell_type": "code",
   "execution_count": 6,
   "id": "37490689",
   "metadata": {},
   "outputs": [
    {
     "data": {
      "text/plain": [
       "(1331, 9)"
      ]
     },
     "execution_count": 6,
     "metadata": {},
     "output_type": "execute_result"
    }
   ],
   "source": [
    "features.shape"
   ]
  },
  {
   "cell_type": "code",
   "execution_count": 7,
   "id": "35504374",
   "metadata": {},
   "outputs": [
    {
     "data": {
      "text/plain": [
       "(1331,)"
      ]
     },
     "execution_count": 7,
     "metadata": {},
     "output_type": "execute_result"
    }
   ],
   "source": [
    "target.shape"
   ]
  },
  {
   "cell_type": "markdown",
   "id": "2802c971",
   "metadata": {},
   "source": [
    "## Build Models<a id='Modeling'> </a>"
   ]
  },
  {
   "cell_type": "markdown",
   "id": "57f30241",
   "metadata": {},
   "source": [
    "### Linear Regeression Model<a id='LinearRegression_Model'></a>"
   ]
  },
  {
   "cell_type": "markdown",
   "id": "e159be9c",
   "metadata": {},
   "source": [
    "#### Create and fit LinearRegression Model<a id = 'Create_fit_LR_Model'></a>"
   ]
  },
  {
   "cell_type": "code",
   "execution_count": 8,
   "id": "c1933b0c",
   "metadata": {},
   "outputs": [
    {
     "data": {
      "text/html": [
       "<style>#sk-container-id-1 {color: black;}#sk-container-id-1 pre{padding: 0;}#sk-container-id-1 div.sk-toggleable {background-color: white;}#sk-container-id-1 label.sk-toggleable__label {cursor: pointer;display: block;width: 100%;margin-bottom: 0;padding: 0.3em;box-sizing: border-box;text-align: center;}#sk-container-id-1 label.sk-toggleable__label-arrow:before {content: \"▸\";float: left;margin-right: 0.25em;color: #696969;}#sk-container-id-1 label.sk-toggleable__label-arrow:hover:before {color: black;}#sk-container-id-1 div.sk-estimator:hover label.sk-toggleable__label-arrow:before {color: black;}#sk-container-id-1 div.sk-toggleable__content {max-height: 0;max-width: 0;overflow: hidden;text-align: left;background-color: #f0f8ff;}#sk-container-id-1 div.sk-toggleable__content pre {margin: 0.2em;color: black;border-radius: 0.25em;background-color: #f0f8ff;}#sk-container-id-1 input.sk-toggleable__control:checked~div.sk-toggleable__content {max-height: 200px;max-width: 100%;overflow: auto;}#sk-container-id-1 input.sk-toggleable__control:checked~label.sk-toggleable__label-arrow:before {content: \"▾\";}#sk-container-id-1 div.sk-estimator input.sk-toggleable__control:checked~label.sk-toggleable__label {background-color: #d4ebff;}#sk-container-id-1 div.sk-label input.sk-toggleable__control:checked~label.sk-toggleable__label {background-color: #d4ebff;}#sk-container-id-1 input.sk-hidden--visually {border: 0;clip: rect(1px 1px 1px 1px);clip: rect(1px, 1px, 1px, 1px);height: 1px;margin: -1px;overflow: hidden;padding: 0;position: absolute;width: 1px;}#sk-container-id-1 div.sk-estimator {font-family: monospace;background-color: #f0f8ff;border: 1px dotted black;border-radius: 0.25em;box-sizing: border-box;margin-bottom: 0.5em;}#sk-container-id-1 div.sk-estimator:hover {background-color: #d4ebff;}#sk-container-id-1 div.sk-parallel-item::after {content: \"\";width: 100%;border-bottom: 1px solid gray;flex-grow: 1;}#sk-container-id-1 div.sk-label:hover label.sk-toggleable__label {background-color: #d4ebff;}#sk-container-id-1 div.sk-serial::before {content: \"\";position: absolute;border-left: 1px solid gray;box-sizing: border-box;top: 0;bottom: 0;left: 50%;z-index: 0;}#sk-container-id-1 div.sk-serial {display: flex;flex-direction: column;align-items: center;background-color: white;padding-right: 0.2em;padding-left: 0.2em;position: relative;}#sk-container-id-1 div.sk-item {position: relative;z-index: 1;}#sk-container-id-1 div.sk-parallel {display: flex;align-items: stretch;justify-content: center;background-color: white;position: relative;}#sk-container-id-1 div.sk-item::before, #sk-container-id-1 div.sk-parallel-item::before {content: \"\";position: absolute;border-left: 1px solid gray;box-sizing: border-box;top: 0;bottom: 0;left: 50%;z-index: -1;}#sk-container-id-1 div.sk-parallel-item {display: flex;flex-direction: column;z-index: 1;position: relative;background-color: white;}#sk-container-id-1 div.sk-parallel-item:first-child::after {align-self: flex-end;width: 50%;}#sk-container-id-1 div.sk-parallel-item:last-child::after {align-self: flex-start;width: 50%;}#sk-container-id-1 div.sk-parallel-item:only-child::after {width: 0;}#sk-container-id-1 div.sk-dashed-wrapped {border: 1px dashed gray;margin: 0 0.4em 0.5em 0.4em;box-sizing: border-box;padding-bottom: 0.4em;background-color: white;}#sk-container-id-1 div.sk-label label {font-family: monospace;font-weight: bold;display: inline-block;line-height: 1.2em;}#sk-container-id-1 div.sk-label-container {text-align: center;}#sk-container-id-1 div.sk-container {/* jupyter's `normalize.less` sets `[hidden] { display: none; }` but bootstrap.min.css set `[hidden] { display: none !important; }` so we also need the `!important` here to be able to override the default hidden behavior on the sphinx rendered scikit-learn.org. See: https://github.com/scikit-learn/scikit-learn/issues/21755 */display: inline-block !important;position: relative;}#sk-container-id-1 div.sk-text-repr-fallback {display: none;}</style><div id=\"sk-container-id-1\" class=\"sk-top-container\"><div class=\"sk-text-repr-fallback\"><pre>LinearRegression()</pre><b>In a Jupyter environment, please rerun this cell to show the HTML representation or trust the notebook. <br />On GitHub, the HTML representation is unable to render, please try loading this page with nbviewer.org.</b></div><div class=\"sk-container\" hidden><div class=\"sk-item\"><div class=\"sk-estimator sk-toggleable\"><input class=\"sk-toggleable__control sk-hidden--visually\" id=\"sk-estimator-id-1\" type=\"checkbox\" checked><label for=\"sk-estimator-id-1\" class=\"sk-toggleable__label sk-toggleable__label-arrow\">LinearRegression</label><div class=\"sk-toggleable__content\"><pre>LinearRegression()</pre></div></div></div></div></div>"
      ],
      "text/plain": [
       "LinearRegression()"
      ]
     },
     "execution_count": 8,
     "metadata": {},
     "output_type": "execute_result"
    }
   ],
   "source": [
    "linear_reg_model = LinearRegression()\n",
    "linear_reg_model.fit(X_train, y_train)"
   ]
  },
  {
   "cell_type": "markdown",
   "id": "6a068bb1",
   "metadata": {},
   "source": [
    "#### Run Prediction on LinearRegression Model<a id = 'Predict_LR_Model'></a>"
   ]
  },
  {
   "cell_type": "code",
   "execution_count": 9,
   "id": "38242a1b",
   "metadata": {},
   "outputs": [],
   "source": [
    "# Make predictions on the test set\n",
    "linear_reg_predict = linear_reg_model.predict(X_test)"
   ]
  },
  {
   "cell_type": "markdown",
   "id": "fe0fbde1",
   "metadata": {},
   "source": [
    "#### Review Linear Regression Model Performance<a id='Review_LR_Performance'></a>"
   ]
  },
  {
   "cell_type": "code",
   "execution_count": 10,
   "id": "653e5436",
   "metadata": {},
   "outputs": [],
   "source": [
    "linear_reg_mse = mean_squared_error(y_test, linear_reg_predict)\n",
    "linear_reg_rmse = mean_squared_error(y_test, linear_reg_predict, squared=False)  \n",
    "linear_reg_mae = mean_absolute_error(y_test, linear_reg_predict)\n",
    "linear_reg_r_squared = r2_score(y_test, linear_reg_predict)"
   ]
  },
  {
   "cell_type": "code",
   "execution_count": 11,
   "id": "ea754fa1",
   "metadata": {},
   "outputs": [
    {
     "name": "stdout",
     "output_type": "stream",
     "text": [
      "Mean Squared Error (MSE): 3.225368664473901e+16\n",
      "Root Mean Squared Error (RMSE): 179593114.13508874\n",
      "Mean Absolute Error (MAE): 114789306.97515635\n",
      "R-squared: 0.4468910749962395\n"
     ]
    }
   ],
   "source": [
    "print(\"Mean Squared Error (MSE):\", linear_reg_mse)\n",
    "print(\"Root Mean Squared Error (RMSE):\", linear_reg_rmse)\n",
    "print(\"Mean Absolute Error (MAE):\", linear_reg_mae)\n",
    "print(\"R-squared:\", linear_reg_r_squared)"
   ]
  },
  {
   "cell_type": "markdown",
   "id": "8db95609",
   "metadata": {},
   "source": [
    "#### Interpretation\n",
    "The large values of MSE, RMSE, and MAE suggest that the model's predictions have relatively high errors.\n",
    "<br>R-squared: The R-squared value of 0.4469 indicates that the model accounts for 44.7% of the variability in the target variable. "
   ]
  },
  {
   "cell_type": "markdown",
   "id": "11eba63a",
   "metadata": {},
   "source": [
    "### Random Forest Model<a id = 'RandomForest_Model'><a/>"
   ]
  },
  {
   "cell_type": "markdown",
   "id": "5ca833f7",
   "metadata": {},
   "source": [
    "#### Create and fit RandomForest Model <a id = 'Create_run_RF_Model'></a>"
   ]
  },
  {
   "cell_type": "code",
   "execution_count": 12,
   "id": "3b8e2f69",
   "metadata": {},
   "outputs": [
    {
     "data": {
      "text/html": [
       "<style>#sk-container-id-2 {color: black;}#sk-container-id-2 pre{padding: 0;}#sk-container-id-2 div.sk-toggleable {background-color: white;}#sk-container-id-2 label.sk-toggleable__label {cursor: pointer;display: block;width: 100%;margin-bottom: 0;padding: 0.3em;box-sizing: border-box;text-align: center;}#sk-container-id-2 label.sk-toggleable__label-arrow:before {content: \"▸\";float: left;margin-right: 0.25em;color: #696969;}#sk-container-id-2 label.sk-toggleable__label-arrow:hover:before {color: black;}#sk-container-id-2 div.sk-estimator:hover label.sk-toggleable__label-arrow:before {color: black;}#sk-container-id-2 div.sk-toggleable__content {max-height: 0;max-width: 0;overflow: hidden;text-align: left;background-color: #f0f8ff;}#sk-container-id-2 div.sk-toggleable__content pre {margin: 0.2em;color: black;border-radius: 0.25em;background-color: #f0f8ff;}#sk-container-id-2 input.sk-toggleable__control:checked~div.sk-toggleable__content {max-height: 200px;max-width: 100%;overflow: auto;}#sk-container-id-2 input.sk-toggleable__control:checked~label.sk-toggleable__label-arrow:before {content: \"▾\";}#sk-container-id-2 div.sk-estimator input.sk-toggleable__control:checked~label.sk-toggleable__label {background-color: #d4ebff;}#sk-container-id-2 div.sk-label input.sk-toggleable__control:checked~label.sk-toggleable__label {background-color: #d4ebff;}#sk-container-id-2 input.sk-hidden--visually {border: 0;clip: rect(1px 1px 1px 1px);clip: rect(1px, 1px, 1px, 1px);height: 1px;margin: -1px;overflow: hidden;padding: 0;position: absolute;width: 1px;}#sk-container-id-2 div.sk-estimator {font-family: monospace;background-color: #f0f8ff;border: 1px dotted black;border-radius: 0.25em;box-sizing: border-box;margin-bottom: 0.5em;}#sk-container-id-2 div.sk-estimator:hover {background-color: #d4ebff;}#sk-container-id-2 div.sk-parallel-item::after {content: \"\";width: 100%;border-bottom: 1px solid gray;flex-grow: 1;}#sk-container-id-2 div.sk-label:hover label.sk-toggleable__label {background-color: #d4ebff;}#sk-container-id-2 div.sk-serial::before {content: \"\";position: absolute;border-left: 1px solid gray;box-sizing: border-box;top: 0;bottom: 0;left: 50%;z-index: 0;}#sk-container-id-2 div.sk-serial {display: flex;flex-direction: column;align-items: center;background-color: white;padding-right: 0.2em;padding-left: 0.2em;position: relative;}#sk-container-id-2 div.sk-item {position: relative;z-index: 1;}#sk-container-id-2 div.sk-parallel {display: flex;align-items: stretch;justify-content: center;background-color: white;position: relative;}#sk-container-id-2 div.sk-item::before, #sk-container-id-2 div.sk-parallel-item::before {content: \"\";position: absolute;border-left: 1px solid gray;box-sizing: border-box;top: 0;bottom: 0;left: 50%;z-index: -1;}#sk-container-id-2 div.sk-parallel-item {display: flex;flex-direction: column;z-index: 1;position: relative;background-color: white;}#sk-container-id-2 div.sk-parallel-item:first-child::after {align-self: flex-end;width: 50%;}#sk-container-id-2 div.sk-parallel-item:last-child::after {align-self: flex-start;width: 50%;}#sk-container-id-2 div.sk-parallel-item:only-child::after {width: 0;}#sk-container-id-2 div.sk-dashed-wrapped {border: 1px dashed gray;margin: 0 0.4em 0.5em 0.4em;box-sizing: border-box;padding-bottom: 0.4em;background-color: white;}#sk-container-id-2 div.sk-label label {font-family: monospace;font-weight: bold;display: inline-block;line-height: 1.2em;}#sk-container-id-2 div.sk-label-container {text-align: center;}#sk-container-id-2 div.sk-container {/* jupyter's `normalize.less` sets `[hidden] { display: none; }` but bootstrap.min.css set `[hidden] { display: none !important; }` so we also need the `!important` here to be able to override the default hidden behavior on the sphinx rendered scikit-learn.org. See: https://github.com/scikit-learn/scikit-learn/issues/21755 */display: inline-block !important;position: relative;}#sk-container-id-2 div.sk-text-repr-fallback {display: none;}</style><div id=\"sk-container-id-2\" class=\"sk-top-container\"><div class=\"sk-text-repr-fallback\"><pre>RandomForestRegressor(random_state=42)</pre><b>In a Jupyter environment, please rerun this cell to show the HTML representation or trust the notebook. <br />On GitHub, the HTML representation is unable to render, please try loading this page with nbviewer.org.</b></div><div class=\"sk-container\" hidden><div class=\"sk-item\"><div class=\"sk-estimator sk-toggleable\"><input class=\"sk-toggleable__control sk-hidden--visually\" id=\"sk-estimator-id-2\" type=\"checkbox\" checked><label for=\"sk-estimator-id-2\" class=\"sk-toggleable__label sk-toggleable__label-arrow\">RandomForestRegressor</label><div class=\"sk-toggleable__content\"><pre>RandomForestRegressor(random_state=42)</pre></div></div></div></div></div>"
      ],
      "text/plain": [
       "RandomForestRegressor(random_state=42)"
      ]
     },
     "execution_count": 12,
     "metadata": {},
     "output_type": "execute_result"
    }
   ],
   "source": [
    "rf_model = RandomForestRegressor(random_state=42)\n",
    "rf_model.fit(X_train, y_train)"
   ]
  },
  {
   "cell_type": "markdown",
   "id": "00e30fe6",
   "metadata": {},
   "source": [
    "#### Run Prediction on Random Forest Model<a id = 'Predict_RF_Model'></a>"
   ]
  },
  {
   "cell_type": "code",
   "execution_count": 13,
   "id": "5c210fef",
   "metadata": {},
   "outputs": [],
   "source": [
    "rf_predictions = rf_model.predict(X_test)"
   ]
  },
  {
   "cell_type": "markdown",
   "id": "9cb1d736",
   "metadata": {},
   "source": [
    "#### Review RandomForest Performance<a id = 'Review_RF_Performance'></a>"
   ]
  },
  {
   "cell_type": "code",
   "execution_count": 14,
   "id": "3f63d47d",
   "metadata": {},
   "outputs": [],
   "source": [
    "rf_mse = mean_squared_error(y_test, rf_predictions)\n",
    "rf_rmse = mean_squared_error(y_test, rf_predictions, squared=False)  \n",
    "rf_mae = mean_absolute_error(y_test, rf_predictions)\n",
    "rf_r_squared = r2_score(y_test, rf_predictions)"
   ]
  },
  {
   "cell_type": "code",
   "execution_count": 15,
   "id": "35f29bae",
   "metadata": {},
   "outputs": [
    {
     "name": "stdout",
     "output_type": "stream",
     "text": [
      "Mean Squared Error (MSE): 4359397539894138.0\n",
      "Root Mean Squared Error (RMSE): 66025733.92166223\n",
      "Mean Absolute Error (MAE): 28625374.978309356\n",
      "R-squared: 0.9252419819937643\n"
     ]
    }
   ],
   "source": [
    "print(\"Mean Squared Error (MSE):\", rf_mse)\n",
    "print(\"Root Mean Squared Error (RMSE):\", rf_rmse)\n",
    "print(\"Mean Absolute Error (MAE):\", rf_mae)\n",
    "print(\"R-squared:\", rf_r_squared)"
   ]
  },
  {
   "cell_type": "markdown",
   "id": "fdf8daca",
   "metadata": {},
   "source": [
    "#### Interpretation"
   ]
  },
  {
   "cell_type": "markdown",
   "id": "ac47107a",
   "metadata": {},
   "source": [
    "The relatively low values of MSE, RMSE, and MAE indicate that your model is making better predictions with small errors on average, compared to the Linear Regrerssion Model\n",
    "\n",
    "R-squared: The high R-squared value (0.9252) indicates the goodness of the fit."
   ]
  },
  {
   "cell_type": "markdown",
   "id": "652e4fd1",
   "metadata": {},
   "source": [
    "### Gradient Boosting Regression Model<a id='GradientBoosting_Model'></a>"
   ]
  },
  {
   "cell_type": "markdown",
   "id": "a085b14f",
   "metadata": {},
   "source": [
    "#### Create and fit Gradient Boosting Regression Model <a id = 'Create_run_GB_Model'></a>"
   ]
  },
  {
   "cell_type": "code",
   "execution_count": 16,
   "id": "49eb08a6",
   "metadata": {},
   "outputs": [
    {
     "data": {
      "text/html": [
       "<style>#sk-container-id-3 {color: black;}#sk-container-id-3 pre{padding: 0;}#sk-container-id-3 div.sk-toggleable {background-color: white;}#sk-container-id-3 label.sk-toggleable__label {cursor: pointer;display: block;width: 100%;margin-bottom: 0;padding: 0.3em;box-sizing: border-box;text-align: center;}#sk-container-id-3 label.sk-toggleable__label-arrow:before {content: \"▸\";float: left;margin-right: 0.25em;color: #696969;}#sk-container-id-3 label.sk-toggleable__label-arrow:hover:before {color: black;}#sk-container-id-3 div.sk-estimator:hover label.sk-toggleable__label-arrow:before {color: black;}#sk-container-id-3 div.sk-toggleable__content {max-height: 0;max-width: 0;overflow: hidden;text-align: left;background-color: #f0f8ff;}#sk-container-id-3 div.sk-toggleable__content pre {margin: 0.2em;color: black;border-radius: 0.25em;background-color: #f0f8ff;}#sk-container-id-3 input.sk-toggleable__control:checked~div.sk-toggleable__content {max-height: 200px;max-width: 100%;overflow: auto;}#sk-container-id-3 input.sk-toggleable__control:checked~label.sk-toggleable__label-arrow:before {content: \"▾\";}#sk-container-id-3 div.sk-estimator input.sk-toggleable__control:checked~label.sk-toggleable__label {background-color: #d4ebff;}#sk-container-id-3 div.sk-label input.sk-toggleable__control:checked~label.sk-toggleable__label {background-color: #d4ebff;}#sk-container-id-3 input.sk-hidden--visually {border: 0;clip: rect(1px 1px 1px 1px);clip: rect(1px, 1px, 1px, 1px);height: 1px;margin: -1px;overflow: hidden;padding: 0;position: absolute;width: 1px;}#sk-container-id-3 div.sk-estimator {font-family: monospace;background-color: #f0f8ff;border: 1px dotted black;border-radius: 0.25em;box-sizing: border-box;margin-bottom: 0.5em;}#sk-container-id-3 div.sk-estimator:hover {background-color: #d4ebff;}#sk-container-id-3 div.sk-parallel-item::after {content: \"\";width: 100%;border-bottom: 1px solid gray;flex-grow: 1;}#sk-container-id-3 div.sk-label:hover label.sk-toggleable__label {background-color: #d4ebff;}#sk-container-id-3 div.sk-serial::before {content: \"\";position: absolute;border-left: 1px solid gray;box-sizing: border-box;top: 0;bottom: 0;left: 50%;z-index: 0;}#sk-container-id-3 div.sk-serial {display: flex;flex-direction: column;align-items: center;background-color: white;padding-right: 0.2em;padding-left: 0.2em;position: relative;}#sk-container-id-3 div.sk-item {position: relative;z-index: 1;}#sk-container-id-3 div.sk-parallel {display: flex;align-items: stretch;justify-content: center;background-color: white;position: relative;}#sk-container-id-3 div.sk-item::before, #sk-container-id-3 div.sk-parallel-item::before {content: \"\";position: absolute;border-left: 1px solid gray;box-sizing: border-box;top: 0;bottom: 0;left: 50%;z-index: -1;}#sk-container-id-3 div.sk-parallel-item {display: flex;flex-direction: column;z-index: 1;position: relative;background-color: white;}#sk-container-id-3 div.sk-parallel-item:first-child::after {align-self: flex-end;width: 50%;}#sk-container-id-3 div.sk-parallel-item:last-child::after {align-self: flex-start;width: 50%;}#sk-container-id-3 div.sk-parallel-item:only-child::after {width: 0;}#sk-container-id-3 div.sk-dashed-wrapped {border: 1px dashed gray;margin: 0 0.4em 0.5em 0.4em;box-sizing: border-box;padding-bottom: 0.4em;background-color: white;}#sk-container-id-3 div.sk-label label {font-family: monospace;font-weight: bold;display: inline-block;line-height: 1.2em;}#sk-container-id-3 div.sk-label-container {text-align: center;}#sk-container-id-3 div.sk-container {/* jupyter's `normalize.less` sets `[hidden] { display: none; }` but bootstrap.min.css set `[hidden] { display: none !important; }` so we also need the `!important` here to be able to override the default hidden behavior on the sphinx rendered scikit-learn.org. See: https://github.com/scikit-learn/scikit-learn/issues/21755 */display: inline-block !important;position: relative;}#sk-container-id-3 div.sk-text-repr-fallback {display: none;}</style><div id=\"sk-container-id-3\" class=\"sk-top-container\"><div class=\"sk-text-repr-fallback\"><pre>GradientBoostingRegressor(random_state=42)</pre><b>In a Jupyter environment, please rerun this cell to show the HTML representation or trust the notebook. <br />On GitHub, the HTML representation is unable to render, please try loading this page with nbviewer.org.</b></div><div class=\"sk-container\" hidden><div class=\"sk-item\"><div class=\"sk-estimator sk-toggleable\"><input class=\"sk-toggleable__control sk-hidden--visually\" id=\"sk-estimator-id-3\" type=\"checkbox\" checked><label for=\"sk-estimator-id-3\" class=\"sk-toggleable__label sk-toggleable__label-arrow\">GradientBoostingRegressor</label><div class=\"sk-toggleable__content\"><pre>GradientBoostingRegressor(random_state=42)</pre></div></div></div></div></div>"
      ],
      "text/plain": [
       "GradientBoostingRegressor(random_state=42)"
      ]
     },
     "execution_count": 16,
     "metadata": {},
     "output_type": "execute_result"
    }
   ],
   "source": [
    "gbr_model = GradientBoostingRegressor(random_state=42)\n",
    "gbr_model.fit(X_train, y_train)"
   ]
  },
  {
   "cell_type": "markdown",
   "id": "b5c84ac4",
   "metadata": {},
   "source": [
    "#### Run Prediction on Gradient Boosting Regression Model<a id = 'Predict_GB_Model'></a>"
   ]
  },
  {
   "cell_type": "code",
   "execution_count": 17,
   "id": "69645432",
   "metadata": {},
   "outputs": [],
   "source": [
    "gb_predictions = gbr_model.predict(X_test)"
   ]
  },
  {
   "cell_type": "markdown",
   "id": "6090ebda",
   "metadata": {},
   "source": [
    "#### Review Gradient Boosting Regression Performance <a id = 'Review_GB_Performance'></a>"
   ]
  },
  {
   "cell_type": "code",
   "execution_count": 18,
   "id": "b9711bc3",
   "metadata": {},
   "outputs": [],
   "source": [
    "gb_mse = mean_squared_error(y_test, gb_predictions)\n",
    "gb_rmse = mean_squared_error(y_test, gb_predictions, squared=False)  \n",
    "gb_mae = mean_absolute_error(y_test, gb_predictions)\n",
    "gb_r_squared = r2_score(y_test, gb_predictions)"
   ]
  },
  {
   "cell_type": "code",
   "execution_count": 19,
   "id": "22882a72",
   "metadata": {},
   "outputs": [
    {
     "name": "stdout",
     "output_type": "stream",
     "text": [
      "Mean Squared Error (MSE): 5541069034991457.0\n",
      "Root Mean Squared Error (RMSE): 74438357.2829993\n",
      "Mean Absolute Error (MAE): 41021312.217384\n",
      "R-squared: 0.9049778473055371\n"
     ]
    }
   ],
   "source": [
    "print(\"Mean Squared Error (MSE):\", gb_mse)\n",
    "print(\"Root Mean Squared Error (RMSE):\", gb_rmse)\n",
    "print(\"Mean Absolute Error (MAE):\", gb_mae)\n",
    "print(\"R-squared:\", gb_r_squared)"
   ]
  },
  {
   "cell_type": "markdown",
   "id": "3e7dcb3e",
   "metadata": {},
   "source": [
    "#### Interpretation"
   ]
  },
  {
   "cell_type": "markdown",
   "id": "8530776b",
   "metadata": {},
   "source": [
    "The large MSE and RMSE values suggest that there is a considerable amount of variance in the target variable. Predictions seem to have substantial errors.\n",
    "\n",
    "The MAE indicates that, on average, the model's predictions deviate by approximately 41.02 million units from the actual values.\n",
    "\n",
    "R-squared value indicates a relatively good fit of the model to the data, explaining 90.5% of the variability in the target variable."
   ]
  },
  {
   "cell_type": "markdown",
   "id": "f6cc94f9",
   "metadata": {},
   "source": [
    "In summary, based on these metrics, Random Forest Model is preferred over Gradient Boost Regression Model as it demonstrates much better performance in terms of prediction accuracy."
   ]
  },
  {
   "cell_type": "markdown",
   "id": "b1abe922",
   "metadata": {},
   "source": [
    "## Hyperparameter Tuning <a id = 'HyperparameterTuning'></a>"
   ]
  },
  {
   "cell_type": "markdown",
   "id": "1e6be690",
   "metadata": {},
   "source": [
    "### Define the Parameter Grid<a id = 'Define_parameters'></a>"
   ]
  },
  {
   "cell_type": "code",
   "execution_count": 20,
   "id": "bfb55675",
   "metadata": {},
   "outputs": [],
   "source": [
    "# Define the hyperparameter grid\n",
    "param_grid = {\n",
    "    'n_estimators': [50, 100, 200],\n",
    "    'max_depth': [None, 10, 20],\n",
    "    'min_samples_split': [2, 5, 10],\n",
    "    'min_samples_leaf': [1, 2, 4],\n",
    "    'max_features': ['auto', 'sqrt', 'log2']\n",
    "}"
   ]
  },
  {
   "cell_type": "markdown",
   "id": "bdacbb9d",
   "metadata": {},
   "source": [
    "### Perform Grid Search and Re-run Models <a id = 'Perform_gridSearch'></a>"
   ]
  },
  {
   "cell_type": "markdown",
   "id": "48ba8091",
   "metadata": {},
   "source": [
    "#### Random Forest"
   ]
  },
  {
   "cell_type": "code",
   "execution_count": 21,
   "id": "bc205b17",
   "metadata": {},
   "outputs": [
    {
     "name": "stdout",
     "output_type": "stream",
     "text": [
      "Mean Squared Error: 5311801676306028.0\n"
     ]
    }
   ],
   "source": [
    "# Perform GridSearchCV on Random Forest Model\n",
    "best_gbr_model_rf = GridSearchCV(rf_model, param_grid, cv=5, scoring='neg_mean_squared_error')\n",
    "best_gbr_model_rf.fit(X_train, y_train)\n",
    "\n",
    "# Access the best hyperparameters\n",
    "best_params_rf = best_gbr_model_rf.best_params_\n",
    "\n",
    "# Instantiate a new Random Forest Regressor with the best hyperparameters\n",
    "best_rf_model = RandomForestRegressor(**best_params_rf, random_state=42)\n",
    "\n",
    "# Fit the model on the entire training set\n",
    "best_rf_model.fit(X_train, y_train)\n",
    "\n",
    "# Make predictions on the test set\n",
    "best_rf_predictions = best_rf_model.predict(X_test)\n",
    "\n",
    "\n",
    "# Calculate mean squared error\n",
    "mse = mean_squared_error(y_test, best_rf_predictions)\n",
    "print(f'Mean Squared Error: {mse}')\n"
   ]
  },
  {
   "cell_type": "code",
   "execution_count": 22,
   "id": "f8233cb9",
   "metadata": {},
   "outputs": [
    {
     "data": {
      "image/png": "[encoded data removed]",
      "text/plain": [
       "<Figure size 640x480 with 1 Axes>"
      ]
     },
     "metadata": {},
     "output_type": "display_data"
    }
   ],
   "source": [
    "import matplotlib.pyplot as plt\n",
    "\n",
    "# Scatter plot of actual vs predicted values\n",
    "plt.scatter(y_test, best_rf_predictions)\n",
    "plt.xlabel('Actual Values')\n",
    "plt.ylabel('Predicted Values')\n",
    "plt.title('Actual vs Predicted Values')\n",
    "plt.plot([min(y_test), max(y_test)], [min(y_test), max(y_test)], linestyle='--', color='red', linewidth=2, label='Perfect Prediction Line')\n",
    "plt.legend()\n",
    "plt.show()\n"
   ]
  },
  {
   "cell_type": "markdown",
   "id": "12995be2",
   "metadata": {},
   "source": [
    "#### Gradient Booster Regressor"
   ]
  },
  {
   "cell_type": "code",
   "execution_count": 23,
   "id": "503b3947",
   "metadata": {},
   "outputs": [
    {
     "name": "stdout",
     "output_type": "stream",
     "text": [
      "Mean Squared Error: 4116830272248714.5\n"
     ]
    }
   ],
   "source": [
    "# Perform GridSearcCV on Gradient Booster Regressor\n",
    "grid_search_gbr = GridSearchCV(gbr_model, param_grid, cv=5, scoring='neg_mean_squared_error')\n",
    "grid_search_gbr.fit(X_train, y_train)\n",
    "\n",
    "# Access the best hyperparameters\n",
    "best_params_gbr = grid_search_gbr.best_params_\n",
    "\n",
    "# Instantiate a new GradientBoostingRegressor with the best hyperparameters\n",
    "best_gbr_model = GradientBoostingRegressor(**best_params_gbr, random_state=42)\n",
    "\n",
    "# Fit the model on the entire training set\n",
    "best_gbr_model.fit(X_train, y_train)\n",
    "\n",
    "# Make predictions on the test set\n",
    "best_gbr_predictions = best_gbr_model.predict(X_test)\n",
    "\n",
    "# Calculate mean squared error\n",
    "mse = mean_squared_error(y_test, best_gbr_predictions)\n",
    "print(f'Mean Squared Error: {mse}')"
   ]
  },
  {
   "cell_type": "code",
   "execution_count": 24,
   "id": "35707b2c",
   "metadata": {},
   "outputs": [
    {
     "data": {
      "image/png": "[encoded data removed]",
      "text/plain": [
       "<Figure size 640x480 with 1 Axes>"
      ]
     },
     "metadata": {},
     "output_type": "display_data"
    }
   ],
   "source": [
    "import matplotlib.pyplot as plt\n",
    "\n",
    "# Scatter plot of actual vs predicted values\n",
    "plt.scatter(y_test, best_gbr_predictions)\n",
    "plt.xlabel('Actual Values')\n",
    "plt.ylabel('Predicted Values')\n",
    "plt.title('Actual vs Predicted Values (Gradient Boosting Regressor)')\n",
    "plt.plot([min(y_test), max(y_test)], [min(y_test), max(y_test)], linestyle='--', color='red', linewidth=2, label='Perfect Prediction Line')\n",
    "plt.legend()\n",
    "plt.show()\n"
   ]
  },
  {
   "cell_type": "markdown",
   "id": "2e5c8fc6",
   "metadata": {},
   "source": [
    "## Evaluate Models<a id='Evaluate'></a>"
   ]
  },
  {
   "cell_type": "markdown",
   "id": "30d716a8",
   "metadata": {},
   "source": [
    "### MSE, RMSE, MAE and R-Squared<a id = 'Eval_Metrics'></a>"
   ]
  },
  {
   "cell_type": "markdown",
   "id": "96c836e1",
   "metadata": {},
   "source": [
    "#### Linear Regression<a id='Evaluate_LinearRegression'></a>"
   ]
  },
  {
   "cell_type": "code",
   "execution_count": 25,
   "id": "5737a72f",
   "metadata": {},
   "outputs": [
    {
     "name": "stdout",
     "output_type": "stream",
     "text": [
      "Mean Squared Error (MSE): 3.225368664473901e+16\n",
      "Root Mean Squared Error (RMSE): 179593114.13508874\n",
      "Mean Absolute Error (MAE): 114789306.97515635\n",
      "R-squared: 0.4468910749962395\n"
     ]
    }
   ],
   "source": [
    "print(\"Mean Squared Error (MSE):\", linear_reg_mse)\n",
    "print(\"Root Mean Squared Error (RMSE):\", linear_reg_rmse)\n",
    "print(\"Mean Absolute Error (MAE):\", linear_reg_mae)\n",
    "print(\"R-squared:\", linear_reg_r_squared)"
   ]
  },
  {
   "cell_type": "markdown",
   "id": "3c1571e0",
   "metadata": {},
   "source": [
    "#### Random Forest<a id='Evaluate_RandomForest'></a>"
   ]
  },
  {
   "cell_type": "code",
   "execution_count": 26,
   "id": "3bbf38fa",
   "metadata": {},
   "outputs": [],
   "source": [
    "best_rf_mse = mean_squared_error(y_test, best_rf_predictions)\n",
    "best_rf_rmse = mean_squared_error(y_test, best_rf_predictions, squared=False)  \n",
    "best_rf_mae = mean_absolute_error(y_test, best_rf_predictions)\n",
    "best_rf_r_squared = r2_score(y_test, best_rf_predictions)"
   ]
  },
  {
   "cell_type": "code",
   "execution_count": 27,
   "id": "62667254",
   "metadata": {},
   "outputs": [
    {
     "name": "stdout",
     "output_type": "stream",
     "text": [
      "Random Forest - Mean Squared Error (MSE): 5311801676306028.0\n",
      "Random Forest - Root Mean Squared Error (RMSE): 72882108.06711088\n",
      "Random Forest - Mean Absolute Error (MAE): 31738121.39663324\n",
      "Random Forest - R-squared: 0.908909485375247\n"
     ]
    }
   ],
   "source": [
    "print(\"Random Forest - Mean Squared Error (MSE):\", best_rf_mse)\n",
    "print(\"Random Forest - Root Mean Squared Error (RMSE):\", best_rf_rmse)\n",
    "print(\"Random Forest - Mean Absolute Error (MAE):\", best_rf_mae)\n",
    "print(\"Random Forest - R-squared:\", best_rf_r_squared)"
   ]
  },
  {
   "cell_type": "markdown",
   "id": "1badfdea",
   "metadata": {},
   "source": [
    "#### Gradient Boosting Regressor <a id='Evaluate_GradientBoost'></a>"
   ]
  },
  {
   "cell_type": "code",
   "execution_count": 28,
   "id": "2909716c",
   "metadata": {},
   "outputs": [],
   "source": [
    "best_gbr_mse = mean_squared_error(y_test, best_gbr_predictions)\n",
    "best_gbr_rmse = mean_squared_error(y_test, best_gbr_predictions, squared=False)  \n",
    "best_gbr_mae = mean_absolute_error(y_test, best_gbr_predictions)\n",
    "best_gbr_r_squared = r2_score(y_test, best_gbr_predictions)"
   ]
  },
  {
   "cell_type": "code",
   "execution_count": 29,
   "id": "4769298a",
   "metadata": {},
   "outputs": [
    {
     "name": "stdout",
     "output_type": "stream",
     "text": [
      "Gradient Boost - Mean Squared Error (MSE): 4116830272248714.5\n",
      "Gradient Boost - Root Mean Squared Error (RMSE): 64162530.12661451\n",
      "Gradient Boost - Mean Absolute Error (MAE): 26432303.513172578\n",
      "Gradient Boost - R-squared: 0.9294016962653836\n"
     ]
    }
   ],
   "source": [
    "print(\"Gradient Boost - Mean Squared Error (MSE):\", best_gbr_mse)\n",
    "print(\"Gradient Boost - Root Mean Squared Error (RMSE):\", best_gbr_rmse)\n",
    "print(\"Gradient Boost - Mean Absolute Error (MAE):\", best_gbr_mae)\n",
    "print(\"Gradient Boost - R-squared:\", best_gbr_r_squared)"
   ]
  },
  {
   "cell_type": "markdown",
   "id": "e90a01a2",
   "metadata": {},
   "source": [
    "### Cross Validation<a id = 'Eval_CV'></a>"
   ]
  },
  {
   "cell_type": "code",
   "execution_count": 30,
   "id": "fc34f4c7",
   "metadata": {},
   "outputs": [
    {
     "name": "stdout",
     "output_type": "stream",
     "text": [
      "Average Cross-Validation Score - Linear Regression: -3.410899581526e+16\n",
      "Average Cross-Validation Score - Random Forest: -1.0708064624790602e+16\n",
      "Average Cross-Validation Score - Gradient Boost: -1.2140556734838114e+16\n"
     ]
    }
   ],
   "source": [
    "# Perform cross-validation for each model\n",
    "cross_val_scores_linear_reg = cross_val_score(linear_reg_model, features, target, cv=5, scoring='neg_mean_squared_error')\n",
    "cross_val_scores_random_forest = cross_val_score(rf_model, features, target, cv=5, scoring='neg_mean_squared_error')\n",
    "cross_val_scores_gradient_boost = cross_val_score(gbr_model, features, target, cv=5, scoring='neg_mean_squared_error')\n",
    "\n",
    "# Calculate average scores\n",
    "average_cv_score_linear_reg = np.mean(cross_val_scores_linear_reg)\n",
    "average_cv_score_random_forest = np.mean(cross_val_scores_random_forest)\n",
    "average_cv_score_gradient_boost = np.mean(cross_val_scores_gradient_boost)\n",
    "\n",
    "# Print or display average scores\n",
    "print(\"Average Cross-Validation Score - Linear Regression:\", average_cv_score_linear_reg)\n",
    "print(\"Average Cross-Validation Score - Random Forest:\", average_cv_score_random_forest)\n",
    "print(\"Average Cross-Validation Score - Gradient Boost:\", average_cv_score_gradient_boost)"
   ]
  },
  {
   "cell_type": "markdown",
   "id": "197a4722",
   "metadata": {},
   "source": [
    "Comparing the scores among models: The model with the least negative score is generally considered better. In this case, the Linear Regression model seems to have the lowest average cross-validation score among the three"
   ]
  },
  {
   "cell_type": "markdown",
   "id": "2f3e7e52",
   "metadata": {},
   "source": [
    "## Select Model<a id='Select'></a>"
   ]
  },
  {
   "cell_type": "markdown",
   "id": "825787bd",
   "metadata": {},
   "source": [
    "| Model             | MSE               | RMSE              | MAE              | R-squared          | Cross-Validation Score  |\n",
    "|-------------------|-------------------|-------------------|------------------|--------------------|-------------------------|\n",
    "| Linear Regression | 3.23e+16          | 1.80e+08          | 1.15e+08         | 0.447              | -3.41e+16               |\n",
    "| Random Forest     | 5.31e+15          | 7.29e+07          | 3.17e+07         | 0.909              | -1.07e+16               |\n",
    "| Gradient Boost    | 4.12e+15          | 6.42e+07          | 2.64e+07         | 0.929              | -1.21e+16               |\n",
    "\n"
   ]
  },
  {
   "cell_type": "markdown",
   "id": "aa1a694e",
   "metadata": {},
   "source": [
    "* **MSE and RMSE**: Smaller values are better, indicating lower prediction errors. Here, Random Forest and Gradient Boost have lower MSE and RMSE compared to Linear Regression, suggesting better performance.\n",
    "\n",
    "* **MAE**: Smaller values are better, indicating lower average prediction errors. Random Forest and Gradient Boost have lower MAE compared to Linear Regression.\n",
    "\n",
    "* **R-squared**: Closer to 1 is better, indicating a better fit to the data. Here, Gradient Boost has the highest R-squared, suggesting it explains more variance in the target variable.\n",
    "\n",
    "* **Cross-Validation Score**: More negative values are better, indicating lower prediction errors during cross-validation. All models have similar magnitudes, but Random Forest has the least negative cross-validation score.\n",
    "\n",
    "Based on these metrics, **Gradient Boost Regressor** seems to be the best-performing model, followed by Random Forest. \n",
    "Linear Regression seems to have higher prediction errors compared to the ensemble models. "
   ]
  },
  {
   "cell_type": "code",
   "execution_count": null,
   "id": "980b13c7",
   "metadata": {},
   "outputs": [],
   "source": []
  }
 ],
 "metadata": {
  "kernelspec": {
   "display_name": "Python 3 (ipykernel)",
   "language": "python",
   "name": "python3"
  },
  "language_info": {
   "codemirror_mode": {
    "name": "ipython",
    "version": 3
   },
   "file_extension": ".py",
   "mimetype": "text/x-python",
   "name": "python",
   "nbconvert_exporter": "python",
   "pygments_lexer": "ipython3",
   "version": "3.11.4"
  }
 },
 "nbformat": 4,
 "nbformat_minor": 5
}

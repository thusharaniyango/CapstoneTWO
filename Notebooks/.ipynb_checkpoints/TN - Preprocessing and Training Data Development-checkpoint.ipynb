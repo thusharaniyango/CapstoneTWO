{
 "cells": [
  {
   "cell_type": "markdown",
   "id": "f11a5e31",
   "metadata": {},
   "source": [
    "## Preprocessing and Training Data Development\n",
    "\n",
    "In this Notebook, I will make perform Proprocessing steps and prepare the training / testing data. \n",
    "\n",
    "The goal of the preprocessing work is to prepare the data for fitting models. \n",
    "\n",
    "The dataset include categorical features that will be transformed. \n",
    "I will also take a closer look at the summary statistics to examine the numeric data features, and determine the types of transformations. \n",
    "Additionally, in this notebook, I will also be performing standardizing the features' numeric magnitude and creating train and test splits.\n",
    "The cleaned up and transformed dataset will saved modlling, as modelready_dataset_csv.\n"
   ]
  },
  {
   "cell_type": "code",
   "execution_count": 1,
   "id": "6d570071",
   "metadata": {},
   "outputs": [],
   "source": [
    "# Import Packages\n",
    "import pandas as pd\n",
    "import numpy as np\n",
    "import matplotlib.pyplot as plt\n",
    "import seaborn as sns\n",
    "import os\n",
    "from ipywidgets import interact, widgets"
   ]
  },
  {
   "cell_type": "code",
   "execution_count": 2,
   "id": "22b8f9bf",
   "metadata": {},
   "outputs": [],
   "source": [
    "dataset = pd.read_csv('tidy_dataset.csv')"
   ]
  },
  {
   "cell_type": "code",
   "execution_count": 3,
   "id": "6a813a14",
   "metadata": {},
   "outputs": [
    {
     "data": {
      "text/html": [
       "<div>\n",
       "<style scoped>\n",
       "    .dataframe tbody tr th:only-of-type {\n",
       "        vertical-align: middle;\n",
       "    }\n",
       "\n",
       "    .dataframe tbody tr th {\n",
       "        vertical-align: top;\n",
       "    }\n",
       "\n",
       "    .dataframe thead th {\n",
       "        text-align: right;\n",
       "    }\n",
       "</style>\n",
       "<table border=\"1\" class=\"dataframe\">\n",
       "  <thead>\n",
       "    <tr style=\"text-align: right;\">\n",
       "      <th></th>\n",
       "      <th>Market_type</th>\n",
       "      <th>Contract_freq</th>\n",
       "      <th>Fiscal_earned_year</th>\n",
       "      <th>due_month</th>\n",
       "      <th>due_year</th>\n",
       "      <th>Check_Amount</th>\n",
       "      <th>CATEGORY_DESC</th>\n",
       "      <th>Market_category</th>\n",
       "      <th>percent_vals</th>\n",
       "      <th>average</th>\n",
       "    </tr>\n",
       "  </thead>\n",
       "  <tbody>\n",
       "    <tr>\n",
       "      <th>0</th>\n",
       "      <td>Laboratory</td>\n",
       "      <td>Monthly</td>\n",
       "      <td>2003</td>\n",
       "      <td>4</td>\n",
       "      <td>2003</td>\n",
       "      <td>543310.00</td>\n",
       "      <td>Clinical Reference Laboratory Testing Services</td>\n",
       "      <td>Facilities and Material</td>\n",
       "      <td>3</td>\n",
       "      <td>3.0</td>\n",
       "    </tr>\n",
       "    <tr>\n",
       "      <th>1</th>\n",
       "      <td>Laboratory</td>\n",
       "      <td>Monthly</td>\n",
       "      <td>2003</td>\n",
       "      <td>4</td>\n",
       "      <td>2003</td>\n",
       "      <td>229343.21</td>\n",
       "      <td>Clinical Reference Laboratory Testing Services</td>\n",
       "      <td>Facilities and Material</td>\n",
       "      <td>3</td>\n",
       "      <td>3.0</td>\n",
       "    </tr>\n",
       "    <tr>\n",
       "      <th>2</th>\n",
       "      <td>Laboratory</td>\n",
       "      <td>Monthly</td>\n",
       "      <td>2003</td>\n",
       "      <td>4</td>\n",
       "      <td>2003</td>\n",
       "      <td>201440.18</td>\n",
       "      <td>Clinical Reference Laboratory Testing Services</td>\n",
       "      <td>Facilities and Material</td>\n",
       "      <td>3</td>\n",
       "      <td>3.0</td>\n",
       "    </tr>\n",
       "    <tr>\n",
       "      <th>3</th>\n",
       "      <td>Laboratory</td>\n",
       "      <td>Monthly</td>\n",
       "      <td>2003</td>\n",
       "      <td>4</td>\n",
       "      <td>2003</td>\n",
       "      <td>272868.54</td>\n",
       "      <td>Clinical Reference Laboratory Testing Services</td>\n",
       "      <td>Facilities and Material</td>\n",
       "      <td>3</td>\n",
       "      <td>3.0</td>\n",
       "    </tr>\n",
       "    <tr>\n",
       "      <th>4</th>\n",
       "      <td>Laboratory</td>\n",
       "      <td>Monthly</td>\n",
       "      <td>2003</td>\n",
       "      <td>4</td>\n",
       "      <td>2003</td>\n",
       "      <td>239092.78</td>\n",
       "      <td>Clinical Reference Laboratory Testing Services</td>\n",
       "      <td>Facilities and Material</td>\n",
       "      <td>3</td>\n",
       "      <td>3.0</td>\n",
       "    </tr>\n",
       "  </tbody>\n",
       "</table>\n",
       "</div>"
      ],
      "text/plain": [
       "  Market_type Contract_freq  Fiscal_earned_year  due_month  due_year  \\\n",
       "0  Laboratory       Monthly                2003          4      2003   \n",
       "1  Laboratory       Monthly                2003          4      2003   \n",
       "2  Laboratory       Monthly                2003          4      2003   \n",
       "3  Laboratory       Monthly                2003          4      2003   \n",
       "4  Laboratory       Monthly                2003          4      2003   \n",
       "\n",
       "   Check_Amount                                   CATEGORY_DESC  \\\n",
       "0     543310.00  Clinical Reference Laboratory Testing Services   \n",
       "1     229343.21  Clinical Reference Laboratory Testing Services   \n",
       "2     201440.18  Clinical Reference Laboratory Testing Services   \n",
       "3     272868.54  Clinical Reference Laboratory Testing Services   \n",
       "4     239092.78  Clinical Reference Laboratory Testing Services   \n",
       "\n",
       "           Market_category percent_vals  average  \n",
       "0  Facilities and Material            3      3.0  \n",
       "1  Facilities and Material            3      3.0  \n",
       "2  Facilities and Material            3      3.0  \n",
       "3  Facilities and Material            3      3.0  \n",
       "4  Facilities and Material            3      3.0  "
      ]
     },
     "execution_count": 3,
     "metadata": {},
     "output_type": "execute_result"
    }
   ],
   "source": [
    "dataset.head()"
   ]
  },
  {
   "cell_type": "code",
   "execution_count": 4,
   "id": "b5ceb4fb",
   "metadata": {},
   "outputs": [],
   "source": [
    "#drop columns that are not needed: Market_type, due_year, CATEGORY_DESC, percent_vals, average\n",
    "columns_to_remove = ['Market_type', 'due_year', 'CATEGORY_DESC', 'percent_vals', 'average']\n",
    "dataset.drop(columns=columns_to_remove, inplace=True)"
   ]
  },
  {
   "cell_type": "code",
   "execution_count": 5,
   "id": "9c757786",
   "metadata": {},
   "outputs": [
    {
     "data": {
      "text/html": [
       "<div>\n",
       "<style scoped>\n",
       "    .dataframe tbody tr th:only-of-type {\n",
       "        vertical-align: middle;\n",
       "    }\n",
       "\n",
       "    .dataframe tbody tr th {\n",
       "        vertical-align: top;\n",
       "    }\n",
       "\n",
       "    .dataframe thead th {\n",
       "        text-align: right;\n",
       "    }\n",
       "</style>\n",
       "<table border=\"1\" class=\"dataframe\">\n",
       "  <thead>\n",
       "    <tr style=\"text-align: right;\">\n",
       "      <th></th>\n",
       "      <th>Contract_freq</th>\n",
       "      <th>Fiscal_earned_year</th>\n",
       "      <th>due_month</th>\n",
       "      <th>Check_Amount</th>\n",
       "      <th>Market_category</th>\n",
       "    </tr>\n",
       "  </thead>\n",
       "  <tbody>\n",
       "    <tr>\n",
       "      <th>0</th>\n",
       "      <td>Monthly</td>\n",
       "      <td>2003</td>\n",
       "      <td>4</td>\n",
       "      <td>543310.00</td>\n",
       "      <td>Facilities and Material</td>\n",
       "    </tr>\n",
       "    <tr>\n",
       "      <th>1</th>\n",
       "      <td>Monthly</td>\n",
       "      <td>2003</td>\n",
       "      <td>4</td>\n",
       "      <td>229343.21</td>\n",
       "      <td>Facilities and Material</td>\n",
       "    </tr>\n",
       "    <tr>\n",
       "      <th>2</th>\n",
       "      <td>Monthly</td>\n",
       "      <td>2003</td>\n",
       "      <td>4</td>\n",
       "      <td>201440.18</td>\n",
       "      <td>Facilities and Material</td>\n",
       "    </tr>\n",
       "    <tr>\n",
       "      <th>3</th>\n",
       "      <td>Monthly</td>\n",
       "      <td>2003</td>\n",
       "      <td>4</td>\n",
       "      <td>272868.54</td>\n",
       "      <td>Facilities and Material</td>\n",
       "    </tr>\n",
       "    <tr>\n",
       "      <th>4</th>\n",
       "      <td>Monthly</td>\n",
       "      <td>2003</td>\n",
       "      <td>4</td>\n",
       "      <td>239092.78</td>\n",
       "      <td>Facilities and Material</td>\n",
       "    </tr>\n",
       "  </tbody>\n",
       "</table>\n",
       "</div>"
      ],
      "text/plain": [
       "  Contract_freq  Fiscal_earned_year  due_month  Check_Amount  \\\n",
       "0       Monthly                2003          4     543310.00   \n",
       "1       Monthly                2003          4     229343.21   \n",
       "2       Monthly                2003          4     201440.18   \n",
       "3       Monthly                2003          4     272868.54   \n",
       "4       Monthly                2003          4     239092.78   \n",
       "\n",
       "           Market_category  \n",
       "0  Facilities and Material  \n",
       "1  Facilities and Material  \n",
       "2  Facilities and Material  \n",
       "3  Facilities and Material  \n",
       "4  Facilities and Material  "
      ]
     },
     "execution_count": 5,
     "metadata": {},
     "output_type": "execute_result"
    }
   ],
   "source": [
    "dataset.head()"
   ]
  },
  {
   "cell_type": "markdown",
   "id": "929c33a4",
   "metadata": {},
   "source": [
    "### A few House-Keeping tasks\n",
    "-  1. Check for missing values\n",
    "-  2. Check the Data types\n",
    "-  3. Check the statistical Summary - to make sure the values make sense\n",
    "-  4. Check for outliers  - this help determine the need for scaling"
   ]
  },
  {
   "cell_type": "code",
   "execution_count": 6,
   "id": "f59be2bf",
   "metadata": {},
   "outputs": [
    {
     "name": "stdout",
     "output_type": "stream",
     "text": [
      "Contract_freq         29\n",
      "Fiscal_earned_year     0\n",
      "due_month              0\n",
      "Check_Amount           0\n",
      "Market_category        0\n",
      "dtype: int64\n",
      "\n",
      "Contract_freq          object\n",
      "Fiscal_earned_year      int64\n",
      "due_month               int64\n",
      "Check_Amount          float64\n",
      "Market_category        object\n",
      "dtype: object\n",
      "\n",
      "       Fiscal_earned_year      due_month  Check_Amount\n",
      "count       469981.000000  469981.000000  4.699810e+05\n",
      "mean          2017.432907       6.527130  3.756390e+05\n",
      "std              3.348826       3.385413  8.396662e+05\n",
      "min           2003.000000       1.000000  1.000000e-02\n",
      "25%           2015.000000       4.000000  4.333560e+03\n",
      "50%           2018.000000       7.000000  4.283750e+04\n",
      "75%           2020.000000      10.000000  2.854871e+05\n",
      "max           2023.000000      12.000000  1.040222e+07\n",
      "\n"
     ]
    },
    {
     "data": {
      "image/png": "[encoded data removed]",
      "text/plain": [
       "<Figure size 1000x600 with 1 Axes>"
      ]
     },
     "metadata": {},
     "output_type": "display_data"
    }
   ],
   "source": [
    "#1. Check for missing values\n",
    "print(dataset.isnull().sum())\n",
    "\n",
    "print(\"\")\n",
    "\n",
    "#2. Check data types\n",
    "print(dataset.dtypes)\n",
    "\n",
    "print(\"\")\n",
    "\n",
    "#3. Summary statistics\n",
    "print(dataset.describe())\n",
    "\n",
    "print(\"\")\n",
    "\n",
    "# Visualize outliers with boxplots or histograms\n",
    "import matplotlib.pyplot as plt\n",
    "plt.figure(figsize=(10, 6))\n",
    "dataset.boxplot()\n",
    "plt.show()\n"
   ]
  },
  {
   "cell_type": "markdown",
   "id": "e9cf8cd1",
   "metadata": {},
   "source": [
    "Based on this boxplot, the Check_Amount requires transformation as there is significant variance. "
   ]
  },
  {
   "cell_type": "code",
   "execution_count": 7,
   "id": "ca9253a3",
   "metadata": {},
   "outputs": [
    {
     "data": {
      "text/plain": [
       "Monthly         388343\n",
       "Quarterly        81216\n",
       "Annual             384\n",
       "As Submitted         9\n",
       "Name: Contract_freq, dtype: int64"
      ]
     },
     "execution_count": 7,
     "metadata": {},
     "output_type": "execute_result"
    }
   ],
   "source": [
    "dataset['Contract_freq'].value_counts()"
   ]
  },
  {
   "cell_type": "code",
   "execution_count": 8,
   "id": "b86f07b3",
   "metadata": {},
   "outputs": [
    {
     "data": {
      "text/plain": [
       "array(['Monthly', 'Quarterly', 'Annual', nan, 'As Submitted'],\n",
       "      dtype=object)"
      ]
     },
     "execution_count": 8,
     "metadata": {},
     "output_type": "execute_result"
    }
   ],
   "source": [
    "dataset['Contract_freq'].unique()"
   ]
  },
  {
   "cell_type": "code",
   "execution_count": 9,
   "id": "d7f3bd2f",
   "metadata": {},
   "outputs": [
    {
     "data": {
      "text/plain": [
       "Contract_freq         0\n",
       "Fiscal_earned_year    0\n",
       "due_month             0\n",
       "Check_Amount          0\n",
       "Market_category       0\n",
       "dtype: int64"
      ]
     },
     "execution_count": 9,
     "metadata": {},
     "output_type": "execute_result"
    }
   ],
   "source": [
    "#The 29 missing values will be repalced with 'As Submitted'\n",
    "dataset['Contract_freq'].fillna('As Submitted', inplace=True)\n",
    "dataset.isnull().sum()"
   ]
  },
  {
   "cell_type": "code",
   "execution_count": 10,
   "id": "2665e974",
   "metadata": {},
   "outputs": [
    {
     "data": {
      "text/plain": [
       "Monthly         388343\n",
       "Quarterly        81216\n",
       "Annual             384\n",
       "As Submitted        38\n",
       "Name: Contract_freq, dtype: int64"
      ]
     },
     "execution_count": 10,
     "metadata": {},
     "output_type": "execute_result"
    }
   ],
   "source": [
    "dataset['Contract_freq'].value_counts()"
   ]
  },
  {
   "cell_type": "code",
   "execution_count": 11,
   "id": "600d03ee",
   "metadata": {},
   "outputs": [
    {
     "data": {
      "text/plain": [
       "Contract_freq          object\n",
       "Fiscal_earned_year      int64\n",
       "due_month               int64\n",
       "Check_Amount          float64\n",
       "Market_category        object\n",
       "dtype: object"
      ]
     },
     "execution_count": 11,
     "metadata": {},
     "output_type": "execute_result"
    }
   ],
   "source": [
    "#2. Check for datatypes\n",
    "dataset.dtypes"
   ]
  },
  {
   "cell_type": "code",
   "execution_count": 12,
   "id": "12c220f4",
   "metadata": {},
   "outputs": [
    {
     "data": {
      "text/plain": [
       "Monthly         388343\n",
       "Quarterly        81216\n",
       "Annual             384\n",
       "As Submitted        38\n",
       "Name: Contract_freq, dtype: int64"
      ]
     },
     "execution_count": 12,
     "metadata": {},
     "output_type": "execute_result"
    }
   ],
   "source": [
    "dataset['Contract_freq'].value_counts()"
   ]
  },
  {
   "cell_type": "code",
   "execution_count": 13,
   "id": "55c21616",
   "metadata": {},
   "outputs": [],
   "source": [
    "# Transform categorical features\n",
    "#1. Market Category does not have any order and only requires labeling. Therefore use One-Hot Encoding\n",
    "\n",
    "dataset = pd.get_dummies(dataset, columns=['Market_category'])"
   ]
  },
  {
   "cell_type": "code",
   "execution_count": 14,
   "id": "2b2e2809",
   "metadata": {},
   "outputs": [
    {
     "data": {
      "text/html": [
       "<div>\n",
       "<style scoped>\n",
       "    .dataframe tbody tr th:only-of-type {\n",
       "        vertical-align: middle;\n",
       "    }\n",
       "\n",
       "    .dataframe tbody tr th {\n",
       "        vertical-align: top;\n",
       "    }\n",
       "\n",
       "    .dataframe thead th {\n",
       "        text-align: right;\n",
       "    }\n",
       "</style>\n",
       "<table border=\"1\" class=\"dataframe\">\n",
       "  <thead>\n",
       "    <tr style=\"text-align: right;\">\n",
       "      <th></th>\n",
       "      <th>Contract_freq</th>\n",
       "      <th>Fiscal_earned_year</th>\n",
       "      <th>due_month</th>\n",
       "      <th>Check_Amount</th>\n",
       "      <th>Market_category_Facilities and Material</th>\n",
       "      <th>Market_category_Food</th>\n",
       "      <th>Market_category_Pharmaceuticals</th>\n",
       "      <th>Market_category_Services</th>\n",
       "    </tr>\n",
       "  </thead>\n",
       "  <tbody>\n",
       "    <tr>\n",
       "      <th>0</th>\n",
       "      <td>Monthly</td>\n",
       "      <td>2003</td>\n",
       "      <td>4</td>\n",
       "      <td>543310.00</td>\n",
       "      <td>1</td>\n",
       "      <td>0</td>\n",
       "      <td>0</td>\n",
       "      <td>0</td>\n",
       "    </tr>\n",
       "    <tr>\n",
       "      <th>1</th>\n",
       "      <td>Monthly</td>\n",
       "      <td>2003</td>\n",
       "      <td>4</td>\n",
       "      <td>229343.21</td>\n",
       "      <td>1</td>\n",
       "      <td>0</td>\n",
       "      <td>0</td>\n",
       "      <td>0</td>\n",
       "    </tr>\n",
       "    <tr>\n",
       "      <th>2</th>\n",
       "      <td>Monthly</td>\n",
       "      <td>2003</td>\n",
       "      <td>4</td>\n",
       "      <td>201440.18</td>\n",
       "      <td>1</td>\n",
       "      <td>0</td>\n",
       "      <td>0</td>\n",
       "      <td>0</td>\n",
       "    </tr>\n",
       "    <tr>\n",
       "      <th>3</th>\n",
       "      <td>Monthly</td>\n",
       "      <td>2003</td>\n",
       "      <td>4</td>\n",
       "      <td>272868.54</td>\n",
       "      <td>1</td>\n",
       "      <td>0</td>\n",
       "      <td>0</td>\n",
       "      <td>0</td>\n",
       "    </tr>\n",
       "    <tr>\n",
       "      <th>4</th>\n",
       "      <td>Monthly</td>\n",
       "      <td>2003</td>\n",
       "      <td>4</td>\n",
       "      <td>239092.78</td>\n",
       "      <td>1</td>\n",
       "      <td>0</td>\n",
       "      <td>0</td>\n",
       "      <td>0</td>\n",
       "    </tr>\n",
       "  </tbody>\n",
       "</table>\n",
       "</div>"
      ],
      "text/plain": [
       "  Contract_freq  Fiscal_earned_year  due_month  Check_Amount  \\\n",
       "0       Monthly                2003          4     543310.00   \n",
       "1       Monthly                2003          4     229343.21   \n",
       "2       Monthly                2003          4     201440.18   \n",
       "3       Monthly                2003          4     272868.54   \n",
       "4       Monthly                2003          4     239092.78   \n",
       "\n",
       "   Market_category_Facilities and Material  Market_category_Food  \\\n",
       "0                                        1                     0   \n",
       "1                                        1                     0   \n",
       "2                                        1                     0   \n",
       "3                                        1                     0   \n",
       "4                                        1                     0   \n",
       "\n",
       "   Market_category_Pharmaceuticals  Market_category_Services  \n",
       "0                                0                         0  \n",
       "1                                0                         0  \n",
       "2                                0                         0  \n",
       "3                                0                         0  \n",
       "4                                0                         0  "
      ]
     },
     "execution_count": 14,
     "metadata": {},
     "output_type": "execute_result"
    }
   ],
   "source": [
    "dataset.head()"
   ]
  },
  {
   "cell_type": "code",
   "execution_count": 15,
   "id": "fda4c881",
   "metadata": {},
   "outputs": [],
   "source": [
    "#2. Transform Contract_freq. Since there is some inherent order, I would like to maintain it. Therefore I will use label encoding\n",
    "\n",
    "from sklearn.preprocessing import LabelEncoder\n",
    "\n",
    "label_encoder = LabelEncoder()\n",
    "dataset['Contract_freq_encoded'] = label_encoder.fit_transform(dataset['Contract_freq'])\n"
   ]
  },
  {
   "cell_type": "code",
   "execution_count": 16,
   "id": "e350bcdf",
   "metadata": {},
   "outputs": [
    {
     "data": {
      "text/html": [
       "<div>\n",
       "<style scoped>\n",
       "    .dataframe tbody tr th:only-of-type {\n",
       "        vertical-align: middle;\n",
       "    }\n",
       "\n",
       "    .dataframe tbody tr th {\n",
       "        vertical-align: top;\n",
       "    }\n",
       "\n",
       "    .dataframe thead th {\n",
       "        text-align: right;\n",
       "    }\n",
       "</style>\n",
       "<table border=\"1\" class=\"dataframe\">\n",
       "  <thead>\n",
       "    <tr style=\"text-align: right;\">\n",
       "      <th></th>\n",
       "      <th>Contract_freq</th>\n",
       "      <th>Fiscal_earned_year</th>\n",
       "      <th>due_month</th>\n",
       "      <th>Check_Amount</th>\n",
       "      <th>Market_category_Facilities and Material</th>\n",
       "      <th>Market_category_Food</th>\n",
       "      <th>Market_category_Pharmaceuticals</th>\n",
       "      <th>Market_category_Services</th>\n",
       "      <th>Contract_freq_encoded</th>\n",
       "    </tr>\n",
       "  </thead>\n",
       "  <tbody>\n",
       "    <tr>\n",
       "      <th>0</th>\n",
       "      <td>Monthly</td>\n",
       "      <td>2003</td>\n",
       "      <td>4</td>\n",
       "      <td>543310.00</td>\n",
       "      <td>1</td>\n",
       "      <td>0</td>\n",
       "      <td>0</td>\n",
       "      <td>0</td>\n",
       "      <td>2</td>\n",
       "    </tr>\n",
       "    <tr>\n",
       "      <th>1</th>\n",
       "      <td>Monthly</td>\n",
       "      <td>2003</td>\n",
       "      <td>4</td>\n",
       "      <td>229343.21</td>\n",
       "      <td>1</td>\n",
       "      <td>0</td>\n",
       "      <td>0</td>\n",
       "      <td>0</td>\n",
       "      <td>2</td>\n",
       "    </tr>\n",
       "    <tr>\n",
       "      <th>2</th>\n",
       "      <td>Monthly</td>\n",
       "      <td>2003</td>\n",
       "      <td>4</td>\n",
       "      <td>201440.18</td>\n",
       "      <td>1</td>\n",
       "      <td>0</td>\n",
       "      <td>0</td>\n",
       "      <td>0</td>\n",
       "      <td>2</td>\n",
       "    </tr>\n",
       "    <tr>\n",
       "      <th>3</th>\n",
       "      <td>Monthly</td>\n",
       "      <td>2003</td>\n",
       "      <td>4</td>\n",
       "      <td>272868.54</td>\n",
       "      <td>1</td>\n",
       "      <td>0</td>\n",
       "      <td>0</td>\n",
       "      <td>0</td>\n",
       "      <td>2</td>\n",
       "    </tr>\n",
       "    <tr>\n",
       "      <th>4</th>\n",
       "      <td>Monthly</td>\n",
       "      <td>2003</td>\n",
       "      <td>4</td>\n",
       "      <td>239092.78</td>\n",
       "      <td>1</td>\n",
       "      <td>0</td>\n",
       "      <td>0</td>\n",
       "      <td>0</td>\n",
       "      <td>2</td>\n",
       "    </tr>\n",
       "  </tbody>\n",
       "</table>\n",
       "</div>"
      ],
      "text/plain": [
       "  Contract_freq  Fiscal_earned_year  due_month  Check_Amount  \\\n",
       "0       Monthly                2003          4     543310.00   \n",
       "1       Monthly                2003          4     229343.21   \n",
       "2       Monthly                2003          4     201440.18   \n",
       "3       Monthly                2003          4     272868.54   \n",
       "4       Monthly                2003          4     239092.78   \n",
       "\n",
       "   Market_category_Facilities and Material  Market_category_Food  \\\n",
       "0                                        1                     0   \n",
       "1                                        1                     0   \n",
       "2                                        1                     0   \n",
       "3                                        1                     0   \n",
       "4                                        1                     0   \n",
       "\n",
       "   Market_category_Pharmaceuticals  Market_category_Services  \\\n",
       "0                                0                         0   \n",
       "1                                0                         0   \n",
       "2                                0                         0   \n",
       "3                                0                         0   \n",
       "4                                0                         0   \n",
       "\n",
       "   Contract_freq_encoded  \n",
       "0                      2  \n",
       "1                      2  \n",
       "2                      2  \n",
       "3                      2  \n",
       "4                      2  "
      ]
     },
     "execution_count": 16,
     "metadata": {},
     "output_type": "execute_result"
    }
   ],
   "source": [
    "dataset.head()"
   ]
  },
  {
   "cell_type": "code",
   "execution_count": 17,
   "id": "0bca181b",
   "metadata": {},
   "outputs": [],
   "source": [
    "#Since I no longer need the Cntract_freq column, I will drop it\n",
    "\n",
    "dataset.drop('Contract_freq', axis=1, inplace=True)\n"
   ]
  },
  {
   "cell_type": "markdown",
   "id": "d4348d29",
   "metadata": {},
   "source": [
    "**Dealing with the month feature.**\n",
    "\n",
    "\n",
    "This column is an important feature for the prediction. It should be treated as a sequential feature, and therefore the sequence need to be maintained.\n",
    "Therefore I will use feature engineering technique that capture cyclical patterns, using sine-cosine transformation"
   ]
  },
  {
   "cell_type": "code",
   "execution_count": 18,
   "id": "61e323d4",
   "metadata": {},
   "outputs": [],
   "source": [
    "# Transforming months using sine and cosine\n",
    "dataset['sin_month'] = np.sin(2 * np.pi * dataset['due_month'] / 12)\n",
    "dataset['cos_month'] = np.cos(2 * np.pi * dataset['due_month'] / 12)"
   ]
  },
  {
   "cell_type": "code",
   "execution_count": 19,
   "id": "d8db5079",
   "metadata": {},
   "outputs": [
    {
     "data": {
      "text/html": [
       "<div>\n",
       "<style scoped>\n",
       "    .dataframe tbody tr th:only-of-type {\n",
       "        vertical-align: middle;\n",
       "    }\n",
       "\n",
       "    .dataframe tbody tr th {\n",
       "        vertical-align: top;\n",
       "    }\n",
       "\n",
       "    .dataframe thead th {\n",
       "        text-align: right;\n",
       "    }\n",
       "</style>\n",
       "<table border=\"1\" class=\"dataframe\">\n",
       "  <thead>\n",
       "    <tr style=\"text-align: right;\">\n",
       "      <th></th>\n",
       "      <th>Fiscal_earned_year</th>\n",
       "      <th>due_month</th>\n",
       "      <th>Check_Amount</th>\n",
       "      <th>Market_category_Facilities and Material</th>\n",
       "      <th>Market_category_Food</th>\n",
       "      <th>Market_category_Pharmaceuticals</th>\n",
       "      <th>Market_category_Services</th>\n",
       "      <th>Contract_freq_encoded</th>\n",
       "      <th>sin_month</th>\n",
       "      <th>cos_month</th>\n",
       "    </tr>\n",
       "  </thead>\n",
       "  <tbody>\n",
       "    <tr>\n",
       "      <th>0</th>\n",
       "      <td>2003</td>\n",
       "      <td>4</td>\n",
       "      <td>543310.00</td>\n",
       "      <td>1</td>\n",
       "      <td>0</td>\n",
       "      <td>0</td>\n",
       "      <td>0</td>\n",
       "      <td>2</td>\n",
       "      <td>0.866025</td>\n",
       "      <td>-0.5</td>\n",
       "    </tr>\n",
       "    <tr>\n",
       "      <th>1</th>\n",
       "      <td>2003</td>\n",
       "      <td>4</td>\n",
       "      <td>229343.21</td>\n",
       "      <td>1</td>\n",
       "      <td>0</td>\n",
       "      <td>0</td>\n",
       "      <td>0</td>\n",
       "      <td>2</td>\n",
       "      <td>0.866025</td>\n",
       "      <td>-0.5</td>\n",
       "    </tr>\n",
       "    <tr>\n",
       "      <th>2</th>\n",
       "      <td>2003</td>\n",
       "      <td>4</td>\n",
       "      <td>201440.18</td>\n",
       "      <td>1</td>\n",
       "      <td>0</td>\n",
       "      <td>0</td>\n",
       "      <td>0</td>\n",
       "      <td>2</td>\n",
       "      <td>0.866025</td>\n",
       "      <td>-0.5</td>\n",
       "    </tr>\n",
       "    <tr>\n",
       "      <th>3</th>\n",
       "      <td>2003</td>\n",
       "      <td>4</td>\n",
       "      <td>272868.54</td>\n",
       "      <td>1</td>\n",
       "      <td>0</td>\n",
       "      <td>0</td>\n",
       "      <td>0</td>\n",
       "      <td>2</td>\n",
       "      <td>0.866025</td>\n",
       "      <td>-0.5</td>\n",
       "    </tr>\n",
       "    <tr>\n",
       "      <th>4</th>\n",
       "      <td>2003</td>\n",
       "      <td>4</td>\n",
       "      <td>239092.78</td>\n",
       "      <td>1</td>\n",
       "      <td>0</td>\n",
       "      <td>0</td>\n",
       "      <td>0</td>\n",
       "      <td>2</td>\n",
       "      <td>0.866025</td>\n",
       "      <td>-0.5</td>\n",
       "    </tr>\n",
       "  </tbody>\n",
       "</table>\n",
       "</div>"
      ],
      "text/plain": [
       "   Fiscal_earned_year  due_month  Check_Amount  \\\n",
       "0                2003          4     543310.00   \n",
       "1                2003          4     229343.21   \n",
       "2                2003          4     201440.18   \n",
       "3                2003          4     272868.54   \n",
       "4                2003          4     239092.78   \n",
       "\n",
       "   Market_category_Facilities and Material  Market_category_Food  \\\n",
       "0                                        1                     0   \n",
       "1                                        1                     0   \n",
       "2                                        1                     0   \n",
       "3                                        1                     0   \n",
       "4                                        1                     0   \n",
       "\n",
       "   Market_category_Pharmaceuticals  Market_category_Services  \\\n",
       "0                                0                         0   \n",
       "1                                0                         0   \n",
       "2                                0                         0   \n",
       "3                                0                         0   \n",
       "4                                0                         0   \n",
       "\n",
       "   Contract_freq_encoded  sin_month  cos_month  \n",
       "0                      2   0.866025       -0.5  \n",
       "1                      2   0.866025       -0.5  \n",
       "2                      2   0.866025       -0.5  \n",
       "3                      2   0.866025       -0.5  \n",
       "4                      2   0.866025       -0.5  "
      ]
     },
     "execution_count": 19,
     "metadata": {},
     "output_type": "execute_result"
    }
   ],
   "source": [
    "dataset.head()"
   ]
  },
  {
   "cell_type": "markdown",
   "id": "72f46278",
   "metadata": {},
   "source": [
    "### Training and Test data development"
   ]
  },
  {
   "cell_type": "markdown",
   "id": "3a5c4fd8",
   "metadata": {},
   "source": [
    "The standard deviations of the feature 'Check_Amount' is quite disparate, which has a considerably larger standard deviation compared to the other numerical columns. This was shown above when I looked at the summary statistics above. \n",
    "\n",
    "\n",
    "In the following steps, the data will be split into training and test, apply the standardScaler, fit and transform."
   ]
  },
  {
   "cell_type": "code",
   "execution_count": 20,
   "id": "a7ee61ba",
   "metadata": {},
   "outputs": [],
   "source": [
    "from sklearn.model_selection import train_test_split\n",
    "from sklearn.preprocessing import StandardScaler\n",
    "\n",
    "X = dataset.drop(columns=['Check_Amount'])\n",
    "y = dataset['Check_Amount']\n",
    "\n",
    "# Split data into train and test sets\n",
    "X_train, X_test, y_train, y_test = train_test_split(X, y, test_size=0.2, random_state=42)\n",
    "\n",
    "# Initialize the scaler\n",
    "scaler = StandardScaler()\n",
    "\n",
    "# Fit and transform the scaler on the training set\n",
    "X_train_scaled = scaler.fit_transform(X_train)\n",
    "\n",
    "# Use the same scaler to transform the test set\n",
    "X_test_scaled = scaler.transform(X_test)\n"
   ]
  },
  {
   "cell_type": "code",
   "execution_count": 21,
   "id": "819a1bd0",
   "metadata": {},
   "outputs": [],
   "source": [
    "#Save the model-ready dataset\n",
    "dataset.to_csv('modelready_dataset_csv', index=False)\n"
   ]
  }
 ],
 "metadata": {
  "kernelspec": {
   "display_name": "Python 3 (ipykernel)",
   "language": "python",
   "name": "python3"
  },
  "language_info": {
   "codemirror_mode": {
    "name": "ipython",
    "version": 3
   },
   "file_extension": ".py",
   "mimetype": "text/x-python",
   "name": "python",
   "nbconvert_exporter": "python",
   "pygments_lexer": "ipython3",
   "version": "3.11.4"
  }
 },
 "nbformat": 4,
 "nbformat_minor": 5
}

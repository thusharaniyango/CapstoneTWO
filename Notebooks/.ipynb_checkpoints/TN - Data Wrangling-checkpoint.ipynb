{
 "cells": [
  {
   "cell_type": "markdown",
   "id": "20554cf2",
   "metadata": {},
   "source": [
    "# Healthcare Partners INC - Data Wrangling"
   ]
  },
  {
   "cell_type": "markdown",
   "id": "1473f970",
   "metadata": {},
   "source": [
    "This Notebook attempts to perform Data Wrangling on the dataset for Healthcare Partners INC"
   ]
  },
  {
   "cell_type": "markdown",
   "id": "a89ed54a",
   "metadata": {},
   "source": [
    "## Heading\n"
   ]
  },
  {
   "cell_type": "code",
   "execution_count": null,
   "id": "decfd8d5",
   "metadata": {},
   "outputs": [],
   "source": []
  }
 ],
 "metadata": {
  "kernelspec": {
   "display_name": "Python 3 (ipykernel)",
   "language": "python",
   "name": "python3"
  },
  "language_info": {
   "codemirror_mode": {
    "name": "ipython",
    "version": 3
   },
   "file_extension": ".py",
   "mimetype": "text/x-python",
   "name": "python",
   "nbconvert_exporter": "python",
   "pygments_lexer": "ipython3",
   "version": "3.11.4"
  }
 },
 "nbformat": 4,
 "nbformat_minor": 5
}
